{
 "cells": [
  {
   "cell_type": "code",
   "execution_count": 23,
   "metadata": {},
   "outputs": [],
   "source": [
    "import pickle\n",
    "import os\n",
    "import re"
   ]
  },
  {
   "cell_type": "code",
   "execution_count": 24,
   "metadata": {},
   "outputs": [],
   "source": [
    "os.makedirs('predicted_labels',exist_ok=True)"
   ]
  },
  {
   "cell_type": "code",
   "execution_count": 25,
   "metadata": {},
   "outputs": [],
   "source": [
    "labels_folder='/Users/ashujain/Desktop/Team-Detectron/Demo_script/pickles'"
   ]
  },
  {
   "cell_type": "code",
   "execution_count": 26,
   "metadata": {},
   "outputs": [],
   "source": [
    "numbers = re.compile(r'(\\d+)')"
   ]
  },
  {
   "cell_type": "code",
   "execution_count": 27,
   "metadata": {},
   "outputs": [],
   "source": [
    "def numericalSort(value):\n",
    "    parts = numbers.split(value)\n",
    "    parts[1::2] = map(int, parts[1::2])\n",
    "    return parts\n",
    "\n",
    "\n",
    "labels = sorted(os.listdir(labels_folder), key=numericalSort)"
   ]
  },
  {
   "cell_type": "code",
   "execution_count": 28,
   "metadata": {},
   "outputs": [],
   "source": [
    "import locale\n",
    "def getpreferredencoding(do_setlocale = True):\n",
    "    return \"UTF-8\"\n",
    "locale.getpreferredencoding = getpreferredencoding"
   ]
  },
  {
   "cell_type": "code",
   "execution_count": 33,
   "metadata": {},
   "outputs": [],
   "source": [
    "def listToString(s):\n",
    "   \n",
    "    # initialize an empty string\n",
    "    listToStr = ' '.join([str(elem) for elem in s])\n",
    "   \n",
    "    # return string \n",
    "    return (listToStr)\n"
   ]
  },
  {
   "cell_type": "code",
   "execution_count": 43,
   "metadata": {},
   "outputs": [],
   "source": [
    "def pickle_to_text_converter(labels):\n",
    "    pattern = r'\\((.*?)\\)'\n",
    "    for i in labels:\n",
    "        file_name=os.path.splitext(os.path.basename(i))[0]\n",
    "        pickle_name='/Users/ashujain/Desktop/Team-Detectron/Demo_script/pickles/'+i\n",
    "        with open(pickle_name,'rb') as f:\n",
    "            data=pickle.load(f)\n",
    "        str_data=listToString(data)\n",
    "        matches = re.findall(pattern, str_data)\n",
    "        text_name='/Users/ashujain/Desktop/Team-Detectron/Demo_script/predicted_labels/'+file_name+'.txt'\n",
    "        with open(text_name,'w') as file:\n",
    "            a='0'\n",
    "            for i in matches:\n",
    "                content= a+' '+i+'\\n'\n",
    "                file.write(content)  \n"
   ]
  },
  {
   "cell_type": "code",
   "execution_count": 44,
   "metadata": {},
   "outputs": [],
   "source": [
    "pickle_to_text_converter(labels)"
   ]
  }
 ],
 "metadata": {
  "kernelspec": {
   "display_name": "yolo",
   "language": "python",
   "name": "python3"
  },
  "language_info": {
   "codemirror_mode": {
    "name": "ipython",
    "version": 3
   },
   "file_extension": ".py",
   "mimetype": "text/x-python",
   "name": "python",
   "nbconvert_exporter": "python",
   "pygments_lexer": "ipython3",
   "version": "3.10.11"
  },
  "orig_nbformat": 4
 },
 "nbformat": 4,
 "nbformat_minor": 2
}
